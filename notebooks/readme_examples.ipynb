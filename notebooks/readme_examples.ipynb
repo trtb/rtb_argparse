{
 "cells": [
  {
   "cell_type": "code",
   "execution_count": 1,
   "id": "0d079be9",
   "metadata": {},
   "outputs": [],
   "source": [
    "import json\n",
    "\n",
    "def print_json(filename: str):\n",
    "    with open(filename, 'r') as openfile:\n",
    "        json_object = json.load(openfile)\n",
    "\n",
    "    json_object = json.dumps(json_object, indent=2)\n",
    "    print(json_object)\n",
    "    \n",
    "def print_txt(filename: str):\n",
    "    with open(filename, 'r') as openfile:\n",
    "        print(openfile.read())"
   ]
  },
  {
   "cell_type": "markdown",
   "id": "7cb81789",
   "metadata": {},
   "source": [
    "## Introduction example"
   ]
  },
  {
   "cell_type": "code",
   "execution_count": 2,
   "id": "851c8fad",
   "metadata": {},
   "outputs": [
    {
     "name": "stdout",
     "output_type": "stream",
     "text": [
      "usage: ipykernel_launcher.py [-h] [--foo FOO] [--name NAME] arg1\n",
      "\n",
      "positional arguments:\n",
      "  arg1\n",
      "\n",
      "options:\n",
      "  -h, --help   show this help message and exit\n",
      "  --foo FOO\n",
      "  --name NAME\n"
     ]
    }
   ],
   "source": [
    "from rtb_argparse.config import ArgparseConfig, ParserJson\n",
    "\n",
    "parser =  ArgparseConfig(fromfile_prefix_chars=\"@\", file_parser=ParserJson().parser)\n",
    "parser.add_argument('arg1', type=str)\n",
    "parser.add_argument(\"--foo\", type=str)\n",
    "parser.add_argument(\"--name\", type=str)\n",
    "\n",
    "parser.print_help()"
   ]
  },
  {
   "cell_type": "markdown",
   "id": "2ca137f8",
   "metadata": {},
   "source": [
    "### - Simple example"
   ]
  },
  {
   "cell_type": "code",
   "execution_count": 3,
   "id": "26fa2a3c",
   "metadata": {},
   "outputs": [
    {
     "name": "stdout",
     "output_type": "stream",
     "text": [
      "[\n",
      "  \"text\",\n",
      "  {\n",
      "    \"--foo\": \"foo\",\n",
      "    \"--name\": \"myname\"\n",
      "  }\n",
      "]\n"
     ]
    }
   ],
   "source": [
    "filename = \"data/introduction_simple_example.json\"\n",
    "print_json(filename)"
   ]
  },
  {
   "cell_type": "code",
   "execution_count": 4,
   "id": "2a8bfee4",
   "metadata": {},
   "outputs": [
    {
     "name": "stdout",
     "output_type": "stream",
     "text": [
      "text foo myname\n"
     ]
    }
   ],
   "source": [
    "opt = parser.parse_args([f\"@{filename}\"])\n",
    "print(opt.arg1, opt.foo, opt.name)"
   ]
  },
  {
   "cell_type": "markdown",
   "id": "f35dc5aa",
   "metadata": {},
   "source": [
    "### - Complex example"
   ]
  },
  {
   "cell_type": "code",
   "execution_count": 5,
   "id": "6936c7f1",
   "metadata": {},
   "outputs": [
    {
     "name": "stdout",
     "output_type": "stream",
     "text": [
      "[\n",
      "  \"text\",\n",
      "  {\n",
      "    \"@default\": {\n",
      "      \"--foo\": \"foo\",\n",
      "      \"--name\": \"myname\"\n",
      "    },\n",
      "    \"@conf1\": {\n",
      "      \"--foo\": \"oof\",\n",
      "      \"--name\": \"conf1\"\n",
      "    }\n",
      "  }\n",
      "]\n"
     ]
    }
   ],
   "source": [
    "filename = \"data/introduction_complex_example.json\"\n",
    "print_json(filename)"
   ]
  },
  {
   "cell_type": "code",
   "execution_count": 6,
   "id": "967632e8",
   "metadata": {},
   "outputs": [
    {
     "name": "stdout",
     "output_type": "stream",
     "text": [
      "text foo myname\n"
     ]
    }
   ],
   "source": [
    "opt = parser.parse_args([f\"@{filename}\"])\n",
    "print(opt.arg1, opt.foo, opt.name)"
   ]
  },
  {
   "cell_type": "code",
   "execution_count": 7,
   "id": "c82eb8c8",
   "metadata": {},
   "outputs": [
    {
     "name": "stdout",
     "output_type": "stream",
     "text": [
      "text oof conf1\n"
     ]
    }
   ],
   "source": [
    "opt = parser.parse_args([f\"@{filename}@conf1\"])\n",
    "print(opt.arg1, opt.foo, opt.name)"
   ]
  },
  {
   "cell_type": "markdown",
   "id": "3fb26bc5",
   "metadata": {},
   "source": [
    "## Config"
   ]
  },
  {
   "cell_type": "markdown",
   "id": "ec8a737c",
   "metadata": {},
   "source": [
    "### - default_file_parser"
   ]
  },
  {
   "cell_type": "code",
   "execution_count": 8,
   "id": "f349a3d0",
   "metadata": {},
   "outputs": [
    {
     "name": "stdout",
     "output_type": "stream",
     "text": [
      "text --foo foo\n",
      "--name myname\n"
     ]
    }
   ],
   "source": [
    "filename = \"data/default_file_parser.txt\"\n",
    "print_txt(filename)"
   ]
  },
  {
   "cell_type": "code",
   "execution_count": 9,
   "id": "660435dd",
   "metadata": {},
   "outputs": [
    {
     "name": "stdout",
     "output_type": "stream",
     "text": [
      "text foo myname\n"
     ]
    }
   ],
   "source": [
    "from rtb_argparse.config import ArgparseConfig\n",
    "\n",
    "# default_file_parser is the default function of file_parser so there is no need to specify it.\n",
    "parser =  ArgparseConfig(fromfile_prefix_chars=\"@\") \n",
    "parser.add_argument('arg1', type=str)\n",
    "parser.add_argument(\"--foo\", type=str)\n",
    "parser.add_argument(\"--name\", type=str)\n",
    "\n",
    "opt = parser.parse_args([f\"@{filename}\"])\n",
    "print(opt.arg1, opt.foo, opt.name)"
   ]
  },
  {
   "cell_type": "markdown",
   "id": "da6f2623",
   "metadata": {},
   "source": [
    "### - config_parser"
   ]
  },
  {
   "cell_type": "code",
   "execution_count": 10,
   "id": "a4a81cca",
   "metadata": {},
   "outputs": [
    {
     "name": "stdout",
     "output_type": "stream",
     "text": [
      "# This comment is just here to show how to comment\n",
      "\n",
      "\"text\" # It's arg1\n",
      "\n",
      "@default --foo foo\n",
      "--name myname\n",
      "\n",
      "@conf1\n",
      "--foo oof\n",
      "--name conf1\n"
     ]
    }
   ],
   "source": [
    "filename = \"data/config_parser.conf\"\n",
    "print_txt(filename)"
   ]
  },
  {
   "cell_type": "code",
   "execution_count": 11,
   "id": "b85f31ff",
   "metadata": {},
   "outputs": [
    {
     "name": "stdout",
     "output_type": "stream",
     "text": [
      "Reading args from 'data/config_parser.conf' with config 'default'\n",
      "\"text\" foo myname\n",
      "\n",
      "Reading args from 'data/config_parser.conf' with config 'conf1'\n",
      "\"text\" oof conf1\n"
     ]
    }
   ],
   "source": [
    "from rtb_argparse.config import ArgparseConfig, ParserConfig\n",
    "\n",
    "parser =  ArgparseConfig(fromfile_prefix_chars=\"@\", file_parser=ParserConfig(verbose=True).parser) \n",
    "parser.add_argument('arg1', type=str)\n",
    "parser.add_argument(\"--foo\", type=str)\n",
    "parser.add_argument(\"--name\", type=str)\n",
    "\n",
    "opt = parser.parse_args([f\"@{filename}\"])\n",
    "print(opt.arg1, opt.foo, opt.name)\n",
    "\n",
    "print()\n",
    "\n",
    "opt = parser.parse_args([f\"@{filename}@conf1\"])\n",
    "print(opt.arg1, opt.foo, opt.name)"
   ]
  },
  {
   "cell_type": "markdown",
   "id": "0417ed13",
   "metadata": {},
   "source": [
    "## Formatters"
   ]
  },
  {
   "cell_type": "markdown",
   "id": "54598ef5",
   "metadata": {},
   "source": [
    "`argparse.ArgumentDefaultsHelpFormatter` does not displays the default value if an argument does not have a help string, `formatters.ArgumentDefaultsHelpFormatter` does."
   ]
  },
  {
   "cell_type": "code",
   "execution_count": 12,
   "id": "dc3acb2e",
   "metadata": {},
   "outputs": [
    {
     "name": "stdout",
     "output_type": "stream",
     "text": [
      "### argparse Help Formatter\n",
      "\n",
      "usage: ipykernel_launcher.py [-h] [--var1 VAR1] [--var2 VAR2]\n",
      "\n",
      "options:\n",
      "  -h, --help   show this help message and exit\n",
      "  --var1 VAR1\n",
      "  --var2 VAR2  It's var2 (default: it's another string)\n",
      "\n",
      "### rtb_argparse Help Formatter\n",
      "\n",
      "usage: ipykernel_launcher.py [-h] [--var1 VAR1] [--var2 VAR2]\n",
      "\n",
      "options:\n",
      "  -h, --help   show this help message and exit\n",
      "  --var1 VAR1  (default: it's a string)\n",
      "  --var2 VAR2  It's var2 (default: it's another string)\n"
     ]
    }
   ],
   "source": [
    "import argparse\n",
    "from rtb_argparse import formatters\n",
    "\n",
    "print(\"### argparse Help Formatter\\n\")\n",
    "parser = argparse.ArgumentParser(formatter_class=argparse.ArgumentDefaultsHelpFormatter)\n",
    "parser.add_argument('--var1', default=\"it's a string\")\n",
    "parser.add_argument('--var2', default=\"it's another string\", help=\"It's var2\")\n",
    "parser.print_help()\n",
    "\n",
    "print(\"\\n### rtb_argparse Help Formatter\\n\")\n",
    "parser = argparse.ArgumentParser(formatter_class=formatters.ArgumentDefaultsHelpFormatter)\n",
    "parser.add_argument('--var1', default=\"it's a string\")\n",
    "parser.add_argument('--var2', default=\"it's another string\", help=\"It's var2\")\n",
    "parser.print_help()"
   ]
  },
  {
   "cell_type": "markdown",
   "id": "e4c75c2b",
   "metadata": {},
   "source": [
    "## Checkers"
   ]
  },
  {
   "cell_type": "code",
   "execution_count": 13,
   "id": "631e0cee",
   "metadata": {},
   "outputs": [],
   "source": [
    "import argparse\n",
    "from rtb_argparse import checkers\n",
    "\n",
    "parser = argparse.ArgumentParser()\n",
    "\n",
    "# Test if x >= 0\n",
    "parser.add_argument('var1', type=lambda x: checkers.check_superior(int(x), 0))\n",
    "# Test if x is a file and if its extension is txt\n",
    "parser.add_argument('var2', type=lambda x: checkers.check_file_extension(checkers.check_is_file(x), 'ipynb'))\n",
    "# Eval the x string with ast.literal_eval and test if the result is a dict\n",
    "parser.add_argument('var3', type=lambda x: checkers.check_type(checkers.do_literal_eval(x), dict))\n",
    "\n",
    "opt = parser.parse_args([\"5\", \"readme_examples.ipynb\", \"{'test': 'working!'}\"])"
   ]
  },
  {
   "cell_type": "code",
   "execution_count": 14,
   "id": "cd56e512",
   "metadata": {},
   "outputs": [
    {
     "name": "stdout",
     "output_type": "stream",
     "text": [
      "5 readme_examples.ipynb {'test': 'working!'}\n",
      "<class 'int'> <class 'str'> <class 'dict'>\n"
     ]
    }
   ],
   "source": [
    "print(opt.var1, opt.var2, opt.var3)\n",
    "print(type(opt.var1), type(opt.var2), type(opt.var3))"
   ]
  }
 ],
 "metadata": {
  "kernelspec": {
   "display_name": "Python 3 (ipykernel)",
   "language": "python",
   "name": "python3"
  },
  "language_info": {
   "codemirror_mode": {
    "name": "ipython",
    "version": 3
   },
   "file_extension": ".py",
   "mimetype": "text/x-python",
   "name": "python",
   "nbconvert_exporter": "python",
   "pygments_lexer": "ipython3",
   "version": "3.11.5"
  }
 },
 "nbformat": 4,
 "nbformat_minor": 5
}
