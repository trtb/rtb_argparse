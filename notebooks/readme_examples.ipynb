{
 "cells": [
  {
   "cell_type": "code",
   "execution_count": 1,
   "id": "0d079be9",
   "metadata": {},
   "outputs": [],
   "source": [
    "import json\n",
    "\n",
    "def print_json(filename: str):\n",
    "    with open(filename, 'r') as openfile:\n",
    "        json_object = json.load(openfile)\n",
    "\n",
    "    json_object = json.dumps(json_object, indent=2)\n",
    "    print(json_object)"
   ]
  },
  {
   "cell_type": "markdown",
   "id": "7cb81789",
   "metadata": {},
   "source": [
    "### Introduction: Simple example"
   ]
  },
  {
   "cell_type": "code",
   "execution_count": 2,
   "id": "851c8fad",
   "metadata": {},
   "outputs": [
    {
     "name": "stdout",
     "output_type": "stream",
     "text": [
      "usage: ipykernel_launcher.py [-h] [--foo FOO] [--name NAME] arg1\n",
      "\n",
      "positional arguments:\n",
      "  arg1\n",
      "\n",
      "options:\n",
      "  -h, --help   show this help message and exit\n",
      "  --foo FOO\n",
      "  --name NAME\n"
     ]
    }
   ],
   "source": [
    "from rtb_argparse.config import ArgparseConfig, json_config_parser\n",
    "\n",
    "parser =  ArgparseConfig(fromfile_prefix_chars=\"@\", file_parser=json_config_parser)\n",
    "parser.add_argument('arg1', type=str)\n",
    "parser.add_argument(\"--foo\", type=str)\n",
    "parser.add_argument(\"--name\", type=str)\n",
    "\n",
    "parser.print_help()"
   ]
  },
  {
   "cell_type": "code",
   "execution_count": 3,
   "id": "26fa2a3c",
   "metadata": {},
   "outputs": [
    {
     "name": "stdout",
     "output_type": "stream",
     "text": [
      "[\n",
      "  \"text\",\n",
      "  {\n",
      "    \"--foo\": \"foo\",\n",
      "    \"--name\": \"myname\"\n",
      "  }\n",
      "]\n"
     ]
    }
   ],
   "source": [
    "filename = \"data/introduction_simple_example.json\"\n",
    "print_json(filename)"
   ]
  },
  {
   "cell_type": "code",
   "execution_count": 4,
   "id": "2a8bfee4",
   "metadata": {},
   "outputs": [
    {
     "name": "stdout",
     "output_type": "stream",
     "text": [
      "text foo myname\n"
     ]
    }
   ],
   "source": [
    "opt = parser.parse_args([f\"@{filename}\"])\n",
    "print(opt.arg1, opt.foo, opt.name)"
   ]
  },
  {
   "cell_type": "code",
   "execution_count": 5,
   "id": "6936c7f1",
   "metadata": {},
   "outputs": [
    {
     "name": "stdout",
     "output_type": "stream",
     "text": [
      "[\n",
      "  \"text\",\n",
      "  {\n",
      "    \"@default\": {\n",
      "      \"--foo\": \"foo\",\n",
      "      \"--name\": \"myname\"\n",
      "    },\n",
      "    \"@conf1\": {\n",
      "      \"--foo\": \"oof\",\n",
      "      \"--name\": \"conf1\"\n",
      "    }\n",
      "  }\n",
      "]\n"
     ]
    }
   ],
   "source": [
    "filename = \"data/introduction_complex_example.json\"\n",
    "print_json(filename)"
   ]
  },
  {
   "cell_type": "code",
   "execution_count": 6,
   "id": "967632e8",
   "metadata": {},
   "outputs": [
    {
     "name": "stdout",
     "output_type": "stream",
     "text": [
      "text foo myname\n"
     ]
    }
   ],
   "source": [
    "opt = parser.parse_args([f\"@{filename}\"])\n",
    "print(opt.arg1, opt.foo, opt.name)"
   ]
  },
  {
   "cell_type": "code",
   "execution_count": 7,
   "id": "c82eb8c8",
   "metadata": {},
   "outputs": [
    {
     "name": "stdout",
     "output_type": "stream",
     "text": [
      "text oof conf1\n"
     ]
    }
   ],
   "source": [
    "opt = parser.parse_args([f\"@{filename}@conf1\"])\n",
    "print(opt.arg1, opt.foo, opt.name)"
   ]
  },
  {
   "cell_type": "code",
   "execution_count": null,
   "id": "631e0cee",
   "metadata": {},
   "outputs": [],
   "source": []
  }
 ],
 "metadata": {
  "kernelspec": {
   "display_name": "Python 3 (ipykernel)",
   "language": "python",
   "name": "python3"
  },
  "language_info": {
   "codemirror_mode": {
    "name": "ipython",
    "version": 3
   },
   "file_extension": ".py",
   "mimetype": "text/x-python",
   "name": "python",
   "nbconvert_exporter": "python",
   "pygments_lexer": "ipython3",
   "version": "3.11.5"
  }
 },
 "nbformat": 4,
 "nbformat_minor": 5
}
